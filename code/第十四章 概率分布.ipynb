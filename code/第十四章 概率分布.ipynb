{
 "cells": [
  {
   "cell_type": "code",
   "execution_count": 1,
   "id": "7823c55c-961d-4786-a95c-74002e31e800",
   "metadata": {},
   "outputs": [],
   "source": [
    "import numpy as np\n",
    "import pandas as pd\n",
    "from scipy import stats"
   ]
  },
  {
   "cell_type": "code",
   "execution_count": 2,
   "id": "ea48dd62-05fc-4351-8b14-84435e0db3e9",
   "metadata": {},
   "outputs": [],
   "source": [
    "uniform_data = stats.uniform.rvs(size=100000, loc=0, scale=10)"
   ]
  },
  {
   "cell_type": "code",
   "execution_count": 3,
   "id": "a2c17506-f24e-4a7f-bd10-2f7bc80971f7",
   "metadata": {},
   "outputs": [
    {
     "data": {
      "text/plain": [
       "array([0.83649382, 7.74945116, 4.59202975, ..., 5.34841015, 1.9918931 ,\n",
       "       0.69010087])"
      ]
     },
     "execution_count": 3,
     "metadata": {},
     "output_type": "execute_result"
    }
   ],
   "source": [
    "uniform_data"
   ]
  },
  {
   "cell_type": "code",
   "execution_count": 4,
   "id": "330ff40a-2a17-4533-bcad-9abbeace4999",
   "metadata": {},
   "outputs": [
    {
     "data": {
      "text/plain": [
       "<AxesSubplot:ylabel='Density'>"
      ]
     },
     "execution_count": 4,
     "metadata": {},
     "output_type": "execute_result"
    },
    {
     "data": {
      "image/png": "[encoded data removed]",
      "text/plain": [
       "<Figure size 432x216 with 1 Axes>"
      ]
     },
     "metadata": {
      "needs_background": "light"
     },
     "output_type": "display_data"
    }
   ],
   "source": [
    "pd.DataFrame(uniform_data).plot(kind='density', figsize=(6, 3), xlim=(-1, 11))"
   ]
  },
  {
   "cell_type": "code",
   "execution_count": 5,
   "id": "40783921-84a8-457d-8dfc-eb2345397990",
   "metadata": {},
   "outputs": [
    {
     "data": {
      "text/plain": [
       "0.25"
      ]
     },
     "execution_count": 5,
     "metadata": {},
     "output_type": "execute_result"
    }
   ],
   "source": [
    "stats.uniform.cdf(x=2.5, loc=0, scale=10)"
   ]
  },
  {
   "cell_type": "code",
   "execution_count": 6,
   "id": "35ecf0e9-6825-485e-a67e-fb99ef0aaac4",
   "metadata": {},
   "outputs": [
    {
     "data": {
      "text/plain": [
       "2.5"
      ]
     },
     "execution_count": 6,
     "metadata": {},
     "output_type": "execute_result"
    }
   ],
   "source": [
    "stats.uniform.ppf(q=0.25, loc=0, scale=10)"
   ]
  },
  {
   "cell_type": "code",
   "execution_count": 7,
   "id": "567b7781-a3be-45ba-941d-e734e9c6bfac",
   "metadata": {},
   "outputs": [
    {
     "name": "stdout",
     "output_type": "stream",
     "text": [
      "-1处的概率密度(高度)为:0.0\n",
      "2处的概率密度(高度)为:0.1\n",
      "5处的概率密度(高度)为:0.1\n",
      "8处的概率密度(高度)为:0.1\n",
      "11处的概率密度(高度)为:0.0\n"
     ]
    }
   ],
   "source": [
    "for x in range(-1, 12, 3):\n",
    "    print(f'{x}处的概率密度(高度)为:{stats.uniform.pdf(x=x, loc=0, scale=10)}')"
   ]
  },
  {
   "cell_type": "code",
   "execution_count": 8,
   "id": "2f1ddff1-f408-4daf-9e43-83944a566047",
   "metadata": {},
   "outputs": [
    {
     "name": "stdout",
     "output_type": "stream",
     "text": [
      "0.6826894921370859\n"
     ]
    }
   ],
   "source": [
    "prob_under_minus1 = stats.norm.cdf(x=-1, loc=0, scale=1)  # 获取P(x<=-1)\n",
    "prob_over_1 = 1 - stats.norm.cdf(x=1, loc=0, scale=1)  # 获取P(x>=1)\n",
    "between_prob = 1 - (prob_under_minus1+prob_over_1)  # 获取P(-1<=X<=1), 也就是P(-σ<=x<=σ)\n",
    "print(between_prob)  # 这个结果为0.68"
   ]
  },
  {
   "cell_type": "code",
   "execution_count": 9,
   "id": "47988941-59f5-46dd-b8f3-117efe94afc1",
   "metadata": {},
   "outputs": [
    {
     "data": {
      "image/png": "[encoded data removed]",
      "text/plain": [
       "<Figure size 720x432 with 1 Axes>"
      ]
     },
     "metadata": {
      "needs_background": "light"
     },
     "output_type": "display_data"
    }
   ],
   "source": [
    "import matplotlib.pyplot as plt\n",
    "import seaborn as sns\n",
    "\n",
    "colors = sns.color_palette()\n",
    "\n",
    "plt.figure(figsize=(10, 6))\n",
    "plt.fill_between(x=np.arange(-4, -1, 0.01), y1=stats.norm.pdf(np.arange(-4, -1, 0.01)), color=colors[0])  # 区域填充图\n",
    "plt.fill_between(x=np.arange(-1, 1, 0.01), y1=stats.norm.pdf(np.arange(-1, 1, 0.01)), color=colors[1])\n",
    "plt.fill_between(x=np.arange(1, 4, 0.01), y1=stats.norm.pdf(np.arange(1, 4, 0.01)), color=colors[0])\n",
    "plt.show()"
   ]
  },
  {
   "cell_type": "code",
   "execution_count": 10,
   "id": "202ae2b2-1ad9-45d9-9fc6-9dfb3ff5b968",
   "metadata": {},
   "outputs": [
    {
     "data": {
      "text/plain": [
       "array([5, 5, 3, ..., 4, 5, 7])"
      ]
     },
     "execution_count": 10,
     "metadata": {},
     "output_type": "execute_result"
    }
   ],
   "source": [
    "fair_coin_flips = stats.binom.rvs(n=10, p=0.5, size=100000)\n",
    "fair_coin_flips"
   ]
  },
  {
   "cell_type": "code",
   "execution_count": 11,
   "id": "de1a2fbf-8d1a-4af9-abea-711981cd4be6",
   "metadata": {},
   "outputs": [
    {
     "data": {
      "text/html": [
       "<div>\n",
       "<style scoped>\n",
       "    .dataframe tbody tr th:only-of-type {\n",
       "        vertical-align: middle;\n",
       "    }\n",
       "\n",
       "    .dataframe tbody tr th {\n",
       "        vertical-align: top;\n",
       "    }\n",
       "\n",
       "    .dataframe thead th {\n",
       "        text-align: right;\n",
       "    }\n",
       "</style>\n",
       "<table border=\"1\" class=\"dataframe\">\n",
       "  <thead>\n",
       "    <tr style=\"text-align: right;\">\n",
       "      <th>col_0</th>\n",
       "      <th>0</th>\n",
       "      <th>1</th>\n",
       "      <th>2</th>\n",
       "      <th>3</th>\n",
       "      <th>4</th>\n",
       "      <th>5</th>\n",
       "      <th>6</th>\n",
       "      <th>7</th>\n",
       "      <th>8</th>\n",
       "      <th>9</th>\n",
       "      <th>10</th>\n",
       "    </tr>\n",
       "    <tr>\n",
       "      <th>row_0</th>\n",
       "      <th></th>\n",
       "      <th></th>\n",
       "      <th></th>\n",
       "      <th></th>\n",
       "      <th></th>\n",
       "      <th></th>\n",
       "      <th></th>\n",
       "      <th></th>\n",
       "      <th></th>\n",
       "      <th></th>\n",
       "      <th></th>\n",
       "    </tr>\n",
       "  </thead>\n",
       "  <tbody>\n",
       "    <tr>\n",
       "      <th>count</th>\n",
       "      <td>98</td>\n",
       "      <td>947</td>\n",
       "      <td>4264</td>\n",
       "      <td>11672</td>\n",
       "      <td>20525</td>\n",
       "      <td>24647</td>\n",
       "      <td>20578</td>\n",
       "      <td>11726</td>\n",
       "      <td>4453</td>\n",
       "      <td>996</td>\n",
       "      <td>94</td>\n",
       "    </tr>\n",
       "  </tbody>\n",
       "</table>\n",
       "</div>"
      ],
      "text/plain": [
       "col_0  0    1     2      3      4      5      6      7     8    9   10\n",
       "row_0                                                                 \n",
       "count  98  947  4264  11672  20525  24647  20578  11726  4453  996  94"
      ]
     },
     "execution_count": 11,
     "metadata": {},
     "output_type": "execute_result"
    }
   ],
   "source": [
    "pd.crosstab(index='count', columns=fair_coin_flips)"
   ]
  },
  {
   "cell_type": "code",
   "execution_count": 35,
   "id": "e77ea57c-0ada-479f-a045-bbfc12aa883c",
   "metadata": {},
   "outputs": [
    {
     "data": {
      "text/plain": [
       "array([[<AxesSubplot:title={'center':'0'}>]], dtype=object)"
      ]
     },
     "execution_count": 35,
     "metadata": {},
     "output_type": "execute_result"
    },
    {
     "data": {
      "image/png": "[encoded data removed]",
      "text/plain": [
       "<Figure size 432x288 with 1 Axes>"
      ]
     },
     "metadata": {
      "needs_background": "light"
     },
     "output_type": "display_data"
    }
   ],
   "source": [
    "pd.DataFrame(fair_coin_flips).hist(range=(-0.5, 10.5), bins=11)"
   ]
  },
  {
   "cell_type": "code",
   "execution_count": 18,
   "id": "992e5594-fc99-4b83-bc90-b845f7b74383",
   "metadata": {},
   "outputs": [
    {
     "name": "stdout",
     "output_type": "stream",
     "text": [
      "Object `DataFrame.hist()` not found.\n"
     ]
    }
   ],
   "source": []
  },
  {
   "cell_type": "code",
   "execution_count": 26,
   "id": "c85e444d-672b-4f64-ae51-70234bac8eb7",
   "metadata": {},
   "outputs": [
    {
     "data": {
      "text/plain": [
       "array([[<AxesSubplot:title={'center':'0'}>]], dtype=object)"
      ]
     },
     "execution_count": 26,
     "metadata": {},
     "output_type": "execute_result"
    },
    {
     "data": {
      "image/png": "[encoded data removed]",
      "text/plain": [
       "<Figure size 432x288 with 1 Axes>"
      ]
     },
     "metadata": {
      "needs_background": "light"
     },
     "output_type": "display_data"
    }
   ],
   "source": []
  },
  {
   "cell_type": "code",
   "execution_count": 31,
   "id": "19f999ad-3488-42a7-9c99-4a3cbfe922c6",
   "metadata": {},
   "outputs": [
    {
     "data": {
      "text/plain": [
       "0.24609375000000003"
      ]
     },
     "execution_count": 31,
     "metadata": {},
     "output_type": "execute_result"
    }
   ],
   "source": [
    "stats.binom.pmf(k=5, n=10, p=0.5)"
   ]
  },
  {
   "cell_type": "code",
   "execution_count": 32,
   "id": "35149a23-0991-4ec9-be61-51587c15dfc3",
   "metadata": {},
   "outputs": [
    {
     "data": {
      "text/plain": [
       "array([1, 0, 0, ..., 0, 1, 0])"
      ]
     },
     "execution_count": 32,
     "metadata": {},
     "output_type": "execute_result"
    }
   ],
   "source": [
    "arrival_rate_1 = stats.poisson.rvs(size=10000, mu=1)\n",
    "arrival_rate_1"
   ]
  },
  {
   "cell_type": "code",
   "execution_count": 36,
   "id": "f069e2eb-cf43-40c1-9793-65fc82531d86",
   "metadata": {},
   "outputs": [
    {
     "data": {
      "text/plain": [
       "array([[<AxesSubplot:title={'center':'0'}>]], dtype=object)"
      ]
     },
     "execution_count": 36,
     "metadata": {},
     "output_type": "execute_result"
    },
    {
     "data": {
      "image/png": "[encoded data removed]",
      "text/plain": [
       "<Figure size 720x432 with 1 Axes>"
      ]
     },
     "metadata": {
      "needs_background": "light"
     },
     "output_type": "display_data"
    }
   ],
   "source": [
    "pd.DataFrame(arrival_rate_1).hist(range=(-0.5, max(arrival_rate_1)+0.5), bins=max(arrival_rate_1)+1, figsize=(10, 6))"
   ]
  },
  {
   "cell_type": "code",
   "execution_count": 38,
   "id": "2b00f1cb-15f3-4203-8015-0ebcdaadbc59",
   "metadata": {},
   "outputs": [
    {
     "name": "stdout",
     "output_type": "stream",
     "text": [
      "1:2.9008631203404573e-12\n",
      "2:4.50101664801213e-11\n",
      "3:4.661032000779303e-10\n",
      "4:3.6243009520614924e-09\n",
      "5:2.257348746396286e-08\n",
      "6:1.1731942002346981e-07\n",
      "7:5.233734167070702e-07\n",
      "8:2.0460759042705695e-06\n",
      "9:7.121750862815593e-06\n",
      "10:2.2348775738450672e-05\n",
      "11:6.387702539927327e-05\n",
      "12:0.00016769764955133082\n",
      "13:0.00040728370528684865\n",
      "14:0.0009206823961486636\n",
      "15:0.0019474797778723041\n",
      "16:0.003872724868604134\n",
      "17:0.007270216205189685\n",
      "18:0.012932701766165686\n",
      "19:0.02187346844139091\n",
      "20:0.035284618454228846\n",
      "21:0.0544434041868541\n",
      "22:0.08056902109497978\n",
      "23:0.11464591271427384\n",
      "24:0.1572420272383916\n",
      "25:0.20835736466733296\n",
      "26:0.2673366001622652\n",
      "27:0.3328690840455234\n",
      "28:0.40308245963472844\n",
      "29:0.4757169861063199\n",
      "30:0.5483515125779114\n",
      "31:0.6186429898084839\n",
      "32:0.6845412497121455\n",
      "33:0.7444487587154742\n",
      "34:0.7973083254831171\n",
      "35:0.8426165255696685\n",
      "36:0.8803733589751277\n",
      "37:0.9109870076822568\n",
      "38:0.935155677714201\n",
      "39:0.9537469623541579\n",
      "40:0.9676904258341258\n",
      "41:0.9778929600877606\n",
      "42:0.9851804845546427\n",
      "43:0.9902648039501418\n",
      "44:0.993731385356164\n"
     ]
    }
   ],
   "source": [
    "rv = stats.poisson(mu=30)\n",
    "for i in range(1, 45):\n",
    "    print(f'{i}:{rv.cdf(i)}')"
   ]
  },
  {
   "cell_type": "code",
   "execution_count": 40,
   "id": "005f6392-6e2d-4a31-80a7-f34b8424ff1f",
   "metadata": {},
   "outputs": [
    {
     "data": {
      "text/plain": [
       "array([ 1,  2,  1,  1,  4,  1,  7,  1,  1,  2,  1,  2,  1,  3,  5,  1,  1,\n",
       "        4,  1,  1,  1,  3,  2,  1,  1,  1,  2,  1,  1,  1,  1,  6,  2,  5,\n",
       "        4,  5,  1,  1,  5,  5,  2,  1,  1,  1,  2,  3,  3,  3,  1,  2,  1,\n",
       "        1,  2,  3,  1,  4,  1,  3,  3,  1,  6,  1,  1,  2,  2,  1,  1,  3,\n",
       "        4,  3,  1,  1,  1,  3,  1,  2,  2,  1,  1,  1,  1,  4,  1,  4,  1,\n",
       "        2,  4,  1,  1,  3,  1,  1,  6,  3,  4,  3,  3,  2,  1,  4,  3,  1,\n",
       "        2,  7,  3,  1,  2,  2,  4,  2,  3,  2,  1,  1,  1,  1,  1,  1,  8,\n",
       "        2,  1,  2,  1,  1,  3,  1,  5,  1,  1,  2,  1,  1,  2,  1,  1,  4,\n",
       "        3,  2,  1,  1,  1,  2,  1,  4,  1,  2,  2,  2,  4,  1,  2,  1,  5,\n",
       "        1,  1,  1,  1,  4,  1,  1,  2,  1,  2,  5,  1,  1,  3,  2,  1,  1,\n",
       "        4,  2,  2,  2,  3,  1,  1,  1,  1,  1,  2,  2,  1,  1,  1,  1,  1,\n",
       "        1,  2,  1,  1,  1,  1,  1,  2,  2,  1,  2,  1,  2,  1,  1,  2,  1,\n",
       "        4,  1,  1,  1,  1,  1,  2,  2,  2,  1,  1,  1,  1,  2,  3,  1,  2,\n",
       "        3,  1,  1,  1,  1,  1,  2,  5,  1,  1,  1,  1,  5,  1,  3,  1,  5,\n",
       "        1,  3,  1,  4,  1,  2,  2,  2,  2,  4,  2,  2,  1,  1,  1,  1,  1,\n",
       "        1,  1,  3,  2,  3,  2,  1,  3,  1,  1,  3,  1, 10,  1,  3,  2,  1,\n",
       "        1,  2,  1,  1,  1,  1,  1,  2,  3,  1,  3,  1,  2,  1,  2,  1,  1,\n",
       "        1,  1,  1,  4,  1,  1,  1,  2,  4,  1,  1,  2,  2,  2,  1,  2,  1,\n",
       "        1,  2,  1,  1,  1,  1,  3,  1,  1,  1,  1,  5,  4,  2,  1,  3,  6,\n",
       "        3,  4,  2,  2,  2,  5,  1,  2,  2,  3,  3,  1,  1,  4,  2,  3,  6,\n",
       "        3,  3,  1,  1,  1,  5, 10,  5,  1,  1,  1,  2,  5,  4,  4,  1,  3,\n",
       "        1,  1,  3,  1,  1,  2,  4,  1,  1,  1,  2,  1,  1,  2,  4,  1,  3,\n",
       "        1,  1,  3,  2,  1,  4,  1,  1,  2,  1,  1,  1,  3,  2,  1,  2,  1,\n",
       "        1,  4,  1,  3,  1,  3,  3,  2,  1,  1,  1,  2,  2,  1,  1,  4,  2,\n",
       "        1,  1,  2,  3,  3,  1,  2,  1,  3,  1,  1,  4,  1,  1,  1,  3,  1,\n",
       "        1,  2,  1,  2,  1,  1,  2,  1,  5,  1,  4,  3,  4,  1,  1,  1,  1,\n",
       "        5,  3,  3,  3,  2,  1,  2,  1,  2,  3,  1,  4,  1,  1,  1,  1,  4,\n",
       "        2,  1,  1,  1,  2,  1,  1,  2,  1,  4,  1,  1,  1,  3,  2,  1,  1,\n",
       "        3,  3,  2,  2,  3,  1,  1,  1,  2,  1,  2,  1,  4,  1,  1,  1,  2,\n",
       "        1,  7,  1,  2,  2,  4,  1,  1,  2,  2,  2,  1,  2,  3,  3,  1,  1,\n",
       "        2,  2,  3,  4,  1,  2,  2,  3,  1,  3,  2,  1,  1,  1,  1,  1,  2,\n",
       "        2,  1,  3,  1,  1,  2,  4,  2,  1,  4,  1,  1,  4,  1,  3,  3,  2,\n",
       "        4,  5,  2,  1,  2,  6,  1,  2,  1,  1,  1,  1,  3,  1,  2,  5,  2,\n",
       "        2,  1,  1,  1,  2,  1,  1,  2,  1,  1,  1,  1,  2,  4,  1,  1,  1,\n",
       "        1,  1,  2,  1,  1,  2,  2,  1,  3,  3,  5,  1,  3,  3,  4,  1,  1,\n",
       "        2,  1,  1,  1,  3,  1,  1,  1,  1,  1,  1,  3,  2,  3,  2,  1,  1,\n",
       "        1,  1,  1,  5,  1,  5,  4,  1,  1,  5,  2,  1,  1,  4,  2,  1,  1,\n",
       "        1,  1,  1,  2,  4,  1,  2,  1,  1,  1,  1,  6,  1,  3,  2,  1,  2,\n",
       "        1,  1,  1,  2,  1,  2,  1,  1,  1,  4,  1,  1,  2,  1,  4,  1,  2,\n",
       "        1,  2,  3,  1,  1,  7,  1,  1,  1,  1,  1,  4,  1,  1,  4,  4,  3,\n",
       "        2,  1,  1,  4,  1,  1,  1,  1,  2,  2,  5,  1,  3,  1,  2,  5,  1,\n",
       "        2,  1,  5,  1,  1,  1,  2,  1,  1,  5,  1,  1,  1,  1,  1,  3,  1,\n",
       "        1,  1,  1,  1,  2,  2,  4,  2,  2,  4,  1,  1,  2,  1,  1,  5,  1,\n",
       "        1,  1,  2,  1,  1,  2,  1,  1,  3,  2,  2,  1,  5,  1,  2,  1,  1,\n",
       "        1,  1,  3,  1,  1,  1,  1,  1,  1,  2,  2,  1,  3,  3,  1,  2,  1,\n",
       "        2,  1,  3,  2,  2,  1,  1,  3,  3,  1,  3,  2,  1,  1,  1,  3,  4,\n",
       "        2,  6,  2,  1,  1,  3,  2,  1,  1,  1,  3,  1,  2,  5,  3,  2,  2,\n",
       "        2,  4,  1,  3,  2,  1,  1,  7,  1,  1,  1,  1,  1,  2,  3,  3,  3,\n",
       "        2,  1,  2,  1,  2,  2,  1,  4,  1,  6,  1,  1,  3,  1,  2,  3,  1,\n",
       "        3,  1,  2,  2,  1,  2,  1,  3,  1,  1,  3,  4,  1,  1,  1,  3,  1,\n",
       "        1,  1,  2,  1,  1,  7,  2,  1,  2,  2,  1,  8,  2,  2,  2,  1,  2,\n",
       "        1,  5,  1,  3,  1,  1,  4,  1,  1,  1,  2,  1,  3,  2,  1,  4,  1,\n",
       "        2,  1,  2,  4,  3,  2,  2,  2,  2,  1,  2,  1,  3,  2,  3,  1,  4,\n",
       "        1,  1,  2,  1,  1,  2,  3,  1,  2,  2,  2,  1,  1,  3,  3,  5,  1,\n",
       "        2,  2,  2,  1,  1,  1,  1,  2,  3,  3,  1,  1,  1,  1,  2,  2,  2,\n",
       "        1,  1,  2,  2,  2,  2,  1,  2,  1,  1,  1,  1,  2,  3,  3,  2,  1,\n",
       "        2,  1,  2,  3,  3,  4,  2,  1,  1,  2,  1,  1,  3,  1,  1,  2,  1,\n",
       "        1,  5,  1,  2,  1,  2,  4,  4,  1,  7,  3,  2,  1,  1,  4,  2,  1,\n",
       "        1,  1,  3,  1,  2,  1,  1,  2,  1,  2,  1,  1,  1,  1])"
      ]
     },
     "execution_count": 40,
     "metadata": {},
     "output_type": "execute_result"
    }
   ],
   "source": [
    "filps_till_heads = stats.geom.rvs(size=1000, p=0.5)\n",
    "filps_till_heads"
   ]
  },
  {
   "cell_type": "code",
   "execution_count": 41,
   "id": "7989e23c-6e3c-4716-8059-6f6c18e20bab",
   "metadata": {},
   "outputs": [
    {
     "data": {
      "text/plain": [
       "array([[<AxesSubplot:title={'center':'0'}>]], dtype=object)"
      ]
     },
     "execution_count": 41,
     "metadata": {},
     "output_type": "execute_result"
    },
    {
     "data": {
      "image/png": "[encoded data removed]",
      "text/plain": [
       "<Figure size 432x288 with 1 Axes>"
      ]
     },
     "metadata": {
      "needs_background": "light"
     },
     "output_type": "display_data"
    }
   ],
   "source": [
    "pd.DataFrame(filps_till_heads).hist(range=(-0.5, max(filps_till_heads)+0.5), bins=max(filps_till_heads)+1)"
   ]
  },
  {
   "cell_type": "code",
   "execution_count": 42,
   "id": "91262243-b7ec-45b9-8313-d1084d536c9f",
   "metadata": {},
   "outputs": [
    {
     "data": {
      "text/plain": [
       "0.7768698398515702"
      ]
     },
     "execution_count": 42,
     "metadata": {},
     "output_type": "execute_result"
    }
   ],
   "source": [
    "prob_1 = stats.expon.cdf(x=0.25, scale=1/6)  # scale=1/lambda\n",
    "prob_1"
   ]
  },
  {
   "cell_type": "code",
   "execution_count": 55,
   "id": "f6808ecf-e80a-4813-a9ff-86475a71362b",
   "metadata": {},
   "outputs": [
    {
     "data": {
      "text/plain": [
       "43.006176"
      ]
     },
     "execution_count": 55,
     "metadata": {},
     "output_type": "execute_result"
    }
   ],
   "source": [
    "population_ages1 = stats.poisson.rvs(loc=18, mu=35, size=150000)  # loc为期望,scale为标准差\n",
    "population_ages2 = stats.poisson.rvs(loc=18, mu=10, size=100000)\n",
    "population_ages = np.concatenate([population_ages1, population_ages2])\n",
    "population_ages.mean()"
   ]
  },
  {
   "cell_type": "code",
   "execution_count": 52,
   "id": "a5c359e7-cb14-4ab9-8546-848b5aa18e3d",
   "metadata": {},
   "outputs": [
    {
     "data": {
      "text/plain": [
       "43.244"
      ]
     },
     "execution_count": 52,
     "metadata": {},
     "output_type": "execute_result"
    }
   ],
   "source": [
    "sample_ages = np.random.choice(population_ages, size=500)\n",
    "sample_ages.mean()"
   ]
  },
  {
   "cell_type": "code",
   "execution_count": 54,
   "id": "419662f2-6699-4ce7-bc23-e140be71f32d",
   "metadata": {},
   "outputs": [
    {
     "data": {
      "text/plain": [
       "0.23569200000000023"
      ]
     },
     "execution_count": 54,
     "metadata": {},
     "output_type": "execute_result"
    }
   ],
   "source": [
    "abs(population_ages.mean()-sample_ages.mean())"
   ]
  },
  {
   "cell_type": "code",
   "execution_count": 56,
   "id": "d1758108-eaa3-4168-ba0f-dc4afb8cad84",
   "metadata": {},
   "outputs": [
    {
     "data": {
      "text/plain": [
       "array([[<AxesSubplot:title={'center':'0'}>]], dtype=object)"
      ]
     },
     "execution_count": 56,
     "metadata": {},
     "output_type": "execute_result"
    },
    {
     "data": {
      "image/png": "[encoded data removed]",
      "text/plain": [
       "<Figure size 720x432 with 1 Axes>"
      ]
     },
     "metadata": {
      "needs_background": "light"
     },
     "output_type": "display_data"
    }
   ],
   "source": [
    "pd.DataFrame(population_ages).hist(range=(17.5, 75.5), bins=58, figsize=(10, 6))"
   ]
  },
  {
   "cell_type": "code",
   "execution_count": 57,
   "id": "efe89c11-b803-4b15-bc1f-fd6774b398bf",
   "metadata": {},
   "outputs": [
    {
     "data": {
      "text/plain": [
       "-0.11971291660045909"
      ]
     },
     "execution_count": 57,
     "metadata": {},
     "output_type": "execute_result"
    }
   ],
   "source": [
    "stats.skew(population_ages)"
   ]
  },
  {
   "cell_type": "code",
   "execution_count": 58,
   "id": "1606897a-7d1f-4c01-a4da-b861c223bb59",
   "metadata": {},
   "outputs": [
    {
     "data": {
      "text/plain": [
       "<AxesSubplot:ylabel='Density'>"
      ]
     },
     "execution_count": 58,
     "metadata": {},
     "output_type": "execute_result"
    },
    {
     "data": {
      "image/png": "[encoded data removed]",
      "text/plain": [
       "<Figure size 720x432 with 1 Axes>"
      ]
     },
     "metadata": {
      "needs_background": "light"
     },
     "output_type": "display_data"
    }
   ],
   "source": [
    "point_estimates = []\n",
    "for x in range(200):\n",
    "    sample = np.random.choice(population_ages, size=5000)\n",
    "    point_estimates.append(sample.mean())\n",
    "pd.DataFrame(point_estimates).plot(kind='density', figsize=(10, 6), xlim=(41, 45))"
   ]
  },
  {
   "cell_type": "code",
   "execution_count": 59,
   "id": "67d10deb-fd84-4087-a98f-7f9ce9dd4a4a",
   "metadata": {},
   "outputs": [
    {
     "data": {
      "text/plain": [
       "array([[<AxesSubplot:title={'center':'0'}>]], dtype=object)"
      ]
     },
     "execution_count": 59,
     "metadata": {},
     "output_type": "execute_result"
    },
    {
     "data": {
      "image/png": "[encoded data removed]",
      "text/plain": [
       "<Figure size 432x288 with 1 Axes>"
      ]
     },
     "metadata": {
      "needs_background": "light"
     },
     "output_type": "display_data"
    }
   ],
   "source": [
    "pd.DataFrame(point_estimates).hist()"
   ]
  },
  {
   "cell_type": "code",
   "execution_count": null,
   "id": "3d291581-1972-4a79-9752-3443fddb797a",
   "metadata": {},
   "outputs": [],
   "source": []
  },
  {
   "cell_type": "code",
   "execution_count": 60,
   "id": "0d4af9a0-d0cd-4088-ae71-697904bb408a",
   "metadata": {},
   "outputs": [],
   "source": [
    "sample = np.random.choice(population_ages, size=1000)\n",
    "sample_mean = sample.mean()"
   ]
  },
  {
   "cell_type": "code",
   "execution_count": 61,
   "id": "c7cb2daf-6054-4ae3-b6d2-2f9d32c865c2",
   "metadata": {},
   "outputs": [],
   "source": [
    "z_critical = stats.norm.ppf(q=0.975)  # 双尾"
   ]
  },
  {
   "cell_type": "code",
   "execution_count": 62,
   "id": "6c2a14a8-7042-4f4d-84d1-e79e478fb156",
   "metadata": {},
   "outputs": [
    {
     "data": {
      "text/plain": [
       "(42.06151918045052, 43.70248081954948)"
      ]
     },
     "execution_count": 62,
     "metadata": {},
     "output_type": "execute_result"
    }
   ],
   "source": [
    "pop_stdev = population_ages.std()\n",
    "margin_of_error = z_critical * (pop_stdev/np.sqrt(1000))\n",
    "confidence_interval = (sample_mean-margin_of_error, sample_mean+margin_of_error)\n",
    "confidence_interval"
   ]
  },
  {
   "cell_type": "code",
   "execution_count": null,
   "id": "0fc0d61e-ea9f-4dcc-8110-c55fe0a1f309",
   "metadata": {},
   "outputs": [],
   "source": [
    "sample_size = 1000\n",
    "intervals = []\n",
    "sample_means = []\n",
    "for sample in range(25):\n",
    "    sample = np.random.choice(population_ages, size=sample_size)\n",
    "    sample_mean = sample.mean()\n",
    "    sample_means.append(sample_mean)\n",
    "    \n",
    "    z_critical = stats.norm.ppf(q=0.975)\n",
    "    pop_stdev = population_ages.std()"
   ]
  },
  {
   "cell_type": "code",
   "execution_count": 63,
   "id": "772a55a7-7490-4992-9e72-453fb012b7f1",
   "metadata": {},
   "outputs": [],
   "source": [
    "# 构造全国工资水平\n",
    "population_salary1 = stats.poisson.rvs(loc=1300, mu=3500, size=150000)\n",
    "population_salary2 = stats.poisson.rvs(loc=1300, mu=2000, size=100000)\n",
    "population = np.concatenate((population_salary1, population_salary2))"
   ]
  },
  {
   "cell_type": "code",
   "execution_count": 64,
   "id": "a5bcba7d-76ec-408c-a71e-5c0c607a9295",
   "metadata": {},
   "outputs": [],
   "source": [
    "# 对构造成都工资水平\n",
    "cd_salary1 = stats.poisson.rvs(loc=1300, mu=3200, size=30)\n",
    "cd_salary2 = stats.poisson.rvs(loc=1300, mu=1700, size=20)\n",
    "cd_salary = np.concatenate((cd_salary1, cd_salary2))"
   ]
  },
  {
   "cell_type": "code",
   "execution_count": 65,
   "id": "452813ff-9281-4347-bbe6-52ef851e37db",
   "metadata": {},
   "outputs": [
    {
     "name": "stdout",
     "output_type": "stream",
     "text": [
      "4200.091656\n",
      "3902.84\n"
     ]
    }
   ],
   "source": [
    "print(population.mean())\n",
    "print(cd_salary.mean())"
   ]
  },
  {
   "cell_type": "code",
   "execution_count": 66,
   "id": "de5f2422-a212-438a-8a82-7013b3b0bd30",
   "metadata": {},
   "outputs": [
    {
     "data": {
      "text/plain": [
       "Ttest_1sampResult(statistic=-2.812639377237446, pvalue=0.007050013228381565)"
      ]
     },
     "execution_count": 66,
     "metadata": {},
     "output_type": "execute_result"
    }
   ],
   "source": [
    "stats.ttest_1samp(a=cd_salary, popmean=population.mean())"
   ]
  },
  {
   "cell_type": "code",
   "execution_count": 67,
   "id": "f1b43703-5409-43d1-ae7c-a28048c68f6c",
   "metadata": {},
   "outputs": [
    {
     "data": {
      "text/plain": [
       "-2.0095752344892093"
      ]
     },
     "execution_count": 67,
     "metadata": {},
     "output_type": "execute_result"
    }
   ],
   "source": [
    "stats.t.ppf(q=0.025, df=49)"
   ]
  },
  {
   "cell_type": "code",
   "execution_count": 68,
   "id": "7b63890a-bc52-49fd-9535-a8b38c97b990",
   "metadata": {},
   "outputs": [
    {
     "data": {
      "text/plain": [
       "2.009575234489209"
      ]
     },
     "execution_count": 68,
     "metadata": {},
     "output_type": "execute_result"
    }
   ],
   "source": [
    "stats.t.ppf(q=0.975, df=49)"
   ]
  },
  {
   "cell_type": "code",
   "execution_count": 69,
   "id": "94979f6a-5e44-4b8c-ab2b-6c55724c458a",
   "metadata": {},
   "outputs": [
    {
     "data": {
      "text/plain": [
       "(3692.5940987687386, 4113.085901231262)"
      ]
     },
     "execution_count": 69,
     "metadata": {},
     "output_type": "execute_result"
    }
   ],
   "source": [
    "sigma = cd_salary.std()/np.sqrt(50)\n",
    "stats.t.interval(0.95, df=49, loc=cd_salary.mean(), scale=sigma)"
   ]
  },
  {
   "cell_type": "code",
   "execution_count": 73,
   "id": "337d3b34-c52e-4b98-b008-722a84497d13",
   "metadata": {},
   "outputs": [
    {
     "data": {
      "text/plain": [
       "3593.2"
      ]
     },
     "execution_count": 73,
     "metadata": {},
     "output_type": "execute_result"
    }
   ],
   "source": [
    "cq_salary1 = stats.poisson.rvs(loc=1300, mu=3100, size=30)\n",
    "cq_salary2 = stats.poisson.rvs(loc=1300, mu=1100, size=20)\n",
    "cq_salary = np.concatenate((cq_salary1, cq_salary2))\n",
    "cq_salary.mean()"
   ]
  },
  {
   "cell_type": "code",
   "execution_count": 74,
   "id": "afaf974b-d381-4a58-9ace-c59577dca351",
   "metadata": {},
   "outputs": [
    {
     "data": {
      "text/plain": [
       "Ttest_indResult(statistic=1.778727900341298, pvalue=0.07859951252516986)"
      ]
     },
     "execution_count": 74,
     "metadata": {},
     "output_type": "execute_result"
    }
   ],
   "source": [
    "stats.ttest_ind(a=cd_salary, b=cq_salary, equal_var=False)"
   ]
  },
  {
   "cell_type": "code",
   "execution_count": 75,
   "id": "3c8ced88-e7d7-4f2d-a80e-44d97c616c0d",
   "metadata": {},
   "outputs": [
    {
     "data": {
      "text/plain": [
       "Ttest_indResult(statistic=1.778727900341298, pvalue=0.0783851709311185)"
      ]
     },
     "execution_count": 75,
     "metadata": {},
     "output_type": "execute_result"
    }
   ],
   "source": [
    "stats.ttest_ind(a=cd_salary, b=cq_salary)"
   ]
  },
  {
   "cell_type": "code",
   "execution_count": 76,
   "id": "2db47259-cc26-4be8-b219-45449b71fdd5",
   "metadata": {},
   "outputs": [],
   "source": [
    "np.random.seed(3)"
   ]
  },
  {
   "cell_type": "code",
   "execution_count": 78,
   "id": "597f6ffb-eb7f-4070-b3eb-93d19bd0ca5e",
   "metadata": {},
   "outputs": [
    {
     "data": {
      "text/html": [
       "<div>\n",
       "<style scoped>\n",
       "    .dataframe tbody tr th:only-of-type {\n",
       "        vertical-align: middle;\n",
       "    }\n",
       "\n",
       "    .dataframe tbody tr th {\n",
       "        vertical-align: top;\n",
       "    }\n",
       "\n",
       "    .dataframe thead th {\n",
       "        text-align: right;\n",
       "    }\n",
       "</style>\n",
       "<table border=\"1\" class=\"dataframe\">\n",
       "  <thead>\n",
       "    <tr style=\"text-align: right;\">\n",
       "      <th></th>\n",
       "      <th>weight_before</th>\n",
       "      <th>weight_after</th>\n",
       "    </tr>\n",
       "  </thead>\n",
       "  <tbody>\n",
       "    <tr>\n",
       "      <th>52</th>\n",
       "      <td>54.286510</td>\n",
       "      <td>53.726584</td>\n",
       "    </tr>\n",
       "    <tr>\n",
       "      <th>57</th>\n",
       "      <td>53.455848</td>\n",
       "      <td>46.407233</td>\n",
       "    </tr>\n",
       "    <tr>\n",
       "      <th>94</th>\n",
       "      <td>48.872188</td>\n",
       "      <td>48.047009</td>\n",
       "    </tr>\n",
       "    <tr>\n",
       "      <th>39</th>\n",
       "      <td>47.107388</td>\n",
       "      <td>41.395356</td>\n",
       "    </tr>\n",
       "    <tr>\n",
       "      <th>32</th>\n",
       "      <td>57.253999</td>\n",
       "      <td>57.442417</td>\n",
       "    </tr>\n",
       "  </tbody>\n",
       "</table>\n",
       "</div>"
      ],
      "text/plain": [
       "    weight_before  weight_after\n",
       "52      54.286510     53.726584\n",
       "57      53.455848     46.407233\n",
       "94      48.872188     48.047009\n",
       "39      47.107388     41.395356\n",
       "32      57.253999     57.442417"
      ]
     },
     "execution_count": 78,
     "metadata": {},
     "output_type": "execute_result"
    }
   ],
   "source": [
    "before = stats.norm.rvs(scale=10, loc=60, size=100)\n",
    "after = before + stats.norm.rvs(scale=5, loc=-1.25, size=100)\n",
    "weight_df = pd.DataFrame({'weight_before': before,\n",
    "                           'weight_after': after})\n",
    "weight_df.sample(5)"
   ]
  },
  {
   "cell_type": "code",
   "execution_count": 79,
   "id": "02aa4be3-7203-41d2-bdf6-40fa7aad6e4d",
   "metadata": {},
   "outputs": [
    {
     "data": {
      "text/html": [
       "<div>\n",
       "<style scoped>\n",
       "    .dataframe tbody tr th:only-of-type {\n",
       "        vertical-align: middle;\n",
       "    }\n",
       "\n",
       "    .dataframe tbody tr th {\n",
       "        vertical-align: top;\n",
       "    }\n",
       "\n",
       "    .dataframe thead th {\n",
       "        text-align: right;\n",
       "    }\n",
       "</style>\n",
       "<table border=\"1\" class=\"dataframe\">\n",
       "  <thead>\n",
       "    <tr style=\"text-align: right;\">\n",
       "      <th></th>\n",
       "      <th>weight_before</th>\n",
       "      <th>weight_after</th>\n",
       "    </tr>\n",
       "  </thead>\n",
       "  <tbody>\n",
       "    <tr>\n",
       "      <th>count</th>\n",
       "      <td>100.000000</td>\n",
       "      <td>100.000000</td>\n",
       "    </tr>\n",
       "    <tr>\n",
       "      <th>mean</th>\n",
       "      <td>62.869641</td>\n",
       "      <td>60.732431</td>\n",
       "    </tr>\n",
       "    <tr>\n",
       "      <th>std</th>\n",
       "      <td>10.741651</td>\n",
       "      <td>11.295155</td>\n",
       "    </tr>\n",
       "    <tr>\n",
       "      <th>min</th>\n",
       "      <td>33.148913</td>\n",
       "      <td>30.251022</td>\n",
       "    </tr>\n",
       "    <tr>\n",
       "      <th>25%</th>\n",
       "      <td>56.414417</td>\n",
       "      <td>51.800520</td>\n",
       "    </tr>\n",
       "    <tr>\n",
       "      <th>50%</th>\n",
       "      <td>62.524101</td>\n",
       "      <td>59.916172</td>\n",
       "    </tr>\n",
       "    <tr>\n",
       "      <th>75%</th>\n",
       "      <td>70.658690</td>\n",
       "      <td>69.979514</td>\n",
       "    </tr>\n",
       "    <tr>\n",
       "      <th>max</th>\n",
       "      <td>88.118784</td>\n",
       "      <td>84.016122</td>\n",
       "    </tr>\n",
       "  </tbody>\n",
       "</table>\n",
       "</div>"
      ],
      "text/plain": [
       "       weight_before  weight_after\n",
       "count     100.000000    100.000000\n",
       "mean       62.869641     60.732431\n",
       "std        10.741651     11.295155\n",
       "min        33.148913     30.251022\n",
       "25%        56.414417     51.800520\n",
       "50%        62.524101     59.916172\n",
       "75%        70.658690     69.979514\n",
       "max        88.118784     84.016122"
      ]
     },
     "execution_count": 79,
     "metadata": {},
     "output_type": "execute_result"
    }
   ],
   "source": [
    "weight_df.describe()"
   ]
  },
  {
   "cell_type": "code",
   "execution_count": 80,
   "id": "851adcb0-8dbc-49fc-98a1-50849aff70f0",
   "metadata": {},
   "outputs": [
    {
     "data": {
      "text/plain": [
       "Ttest_relResult(statistic=3.9852029980883468, pvalue=0.00012899834202592672)"
      ]
     },
     "execution_count": 80,
     "metadata": {},
     "output_type": "execute_result"
    }
   ],
   "source": [
    "stats.ttest_rel(a=before, b=after)"
   ]
  },
  {
   "cell_type": "code",
   "execution_count": 81,
   "id": "6fdd5dbf-0374-4d75-a889-a59880ede572",
   "metadata": {},
   "outputs": [
    {
     "data": {
      "text/html": [
       "<div>\n",
       "<style scoped>\n",
       "    .dataframe tbody tr th:only-of-type {\n",
       "        vertical-align: middle;\n",
       "    }\n",
       "\n",
       "    .dataframe tbody tr th {\n",
       "        vertical-align: top;\n",
       "    }\n",
       "\n",
       "    .dataframe thead th {\n",
       "        text-align: right;\n",
       "    }\n",
       "</style>\n",
       "<table border=\"1\" class=\"dataframe\">\n",
       "  <thead>\n",
       "    <tr style=\"text-align: right;\">\n",
       "      <th></th>\n",
       "      <th>type</th>\n",
       "      <th>day</th>\n",
       "      <th>reg</th>\n",
       "      <th>stay</th>\n",
       "    </tr>\n",
       "  </thead>\n",
       "  <tbody>\n",
       "    <tr>\n",
       "      <th>0</th>\n",
       "      <td>weibo</td>\n",
       "      <td>day1</td>\n",
       "      <td>2504</td>\n",
       "      <td>752</td>\n",
       "    </tr>\n",
       "    <tr>\n",
       "      <th>1</th>\n",
       "      <td>weibo</td>\n",
       "      <td>day2</td>\n",
       "      <td>2718</td>\n",
       "      <td>701</td>\n",
       "    </tr>\n",
       "    <tr>\n",
       "      <th>2</th>\n",
       "      <td>weibo</td>\n",
       "      <td>day3</td>\n",
       "      <td>2538</td>\n",
       "      <td>692</td>\n",
       "    </tr>\n",
       "    <tr>\n",
       "      <th>3</th>\n",
       "      <td>weibo</td>\n",
       "      <td>day4</td>\n",
       "      <td>2207</td>\n",
       "      <td>540</td>\n",
       "    </tr>\n",
       "    <tr>\n",
       "      <th>4</th>\n",
       "      <td>weibo</td>\n",
       "      <td>day5</td>\n",
       "      <td>2004</td>\n",
       "      <td>464</td>\n",
       "    </tr>\n",
       "  </tbody>\n",
       "</table>\n",
       "</div>"
      ],
      "text/plain": [
       "    type   day   reg  stay\n",
       "0  weibo  day1  2504   752\n",
       "1  weibo  day2  2718   701\n",
       "2  weibo  day3  2538   692\n",
       "3  weibo  day4  2207   540\n",
       "4  weibo  day5  2004   464"
      ]
     },
     "execution_count": 81,
     "metadata": {},
     "output_type": "execute_result"
    }
   ],
   "source": [
    "file = r'../data/reguser.txt'\n",
    "data = pd.read_csv(file, sep='\\t')\n",
    "data.head()"
   ]
  },
  {
   "cell_type": "code",
   "execution_count": 83,
   "id": "a9767294-8eee-4362-ae30-83fbb0b97600",
   "metadata": {},
   "outputs": [
    {
     "data": {
      "text/html": [
       "<div>\n",
       "<style scoped>\n",
       "    .dataframe tbody tr th:only-of-type {\n",
       "        vertical-align: middle;\n",
       "    }\n",
       "\n",
       "    .dataframe tbody tr th {\n",
       "        vertical-align: top;\n",
       "    }\n",
       "\n",
       "    .dataframe thead th {\n",
       "        text-align: right;\n",
       "    }\n",
       "</style>\n",
       "<table border=\"1\" class=\"dataframe\">\n",
       "  <thead>\n",
       "    <tr style=\"text-align: right;\">\n",
       "      <th></th>\n",
       "      <th>type</th>\n",
       "      <th>day</th>\n",
       "      <th>reg</th>\n",
       "      <th>stay</th>\n",
       "      <th>lost</th>\n",
       "    </tr>\n",
       "  </thead>\n",
       "  <tbody>\n",
       "    <tr>\n",
       "      <th>0</th>\n",
       "      <td>weibo</td>\n",
       "      <td>day1</td>\n",
       "      <td>2504</td>\n",
       "      <td>752</td>\n",
       "      <td>1752</td>\n",
       "    </tr>\n",
       "    <tr>\n",
       "      <th>1</th>\n",
       "      <td>weibo</td>\n",
       "      <td>day2</td>\n",
       "      <td>2718</td>\n",
       "      <td>701</td>\n",
       "      <td>2017</td>\n",
       "    </tr>\n",
       "    <tr>\n",
       "      <th>2</th>\n",
       "      <td>weibo</td>\n",
       "      <td>day3</td>\n",
       "      <td>2538</td>\n",
       "      <td>692</td>\n",
       "      <td>1846</td>\n",
       "    </tr>\n",
       "    <tr>\n",
       "      <th>3</th>\n",
       "      <td>weibo</td>\n",
       "      <td>day4</td>\n",
       "      <td>2207</td>\n",
       "      <td>540</td>\n",
       "      <td>1667</td>\n",
       "    </tr>\n",
       "    <tr>\n",
       "      <th>4</th>\n",
       "      <td>weibo</td>\n",
       "      <td>day5</td>\n",
       "      <td>2004</td>\n",
       "      <td>464</td>\n",
       "      <td>1540</td>\n",
       "    </tr>\n",
       "  </tbody>\n",
       "</table>\n",
       "</div>"
      ],
      "text/plain": [
       "    type   day   reg  stay  lost\n",
       "0  weibo  day1  2504   752  1752\n",
       "1  weibo  day2  2718   701  2017\n",
       "2  weibo  day3  2538   692  1846\n",
       "3  weibo  day4  2207   540  1667\n",
       "4  weibo  day5  2004   464  1540"
      ]
     },
     "execution_count": 83,
     "metadata": {},
     "output_type": "execute_result"
    }
   ],
   "source": [
    "data['lost'] = data['reg'] - data['stay']\n",
    "data.head()"
   ]
  },
  {
   "cell_type": "code",
   "execution_count": 84,
   "id": "463c3274-d4c0-4af5-93f4-5e2529d66eff",
   "metadata": {},
   "outputs": [
    {
     "data": {
      "text/html": [
       "<div>\n",
       "<style scoped>\n",
       "    .dataframe tbody tr th:only-of-type {\n",
       "        vertical-align: middle;\n",
       "    }\n",
       "\n",
       "    .dataframe tbody tr th {\n",
       "        vertical-align: top;\n",
       "    }\n",
       "\n",
       "    .dataframe thead th {\n",
       "        text-align: right;\n",
       "    }\n",
       "</style>\n",
       "<table border=\"1\" class=\"dataframe\">\n",
       "  <thead>\n",
       "    <tr style=\"text-align: right;\">\n",
       "      <th></th>\n",
       "      <th>reg</th>\n",
       "      <th>stay</th>\n",
       "      <th>lost</th>\n",
       "    </tr>\n",
       "    <tr>\n",
       "      <th>type</th>\n",
       "      <th></th>\n",
       "      <th></th>\n",
       "      <th></th>\n",
       "    </tr>\n",
       "  </thead>\n",
       "  <tbody>\n",
       "    <tr>\n",
       "      <th>webad</th>\n",
       "      <td>11570</td>\n",
       "      <td>3173</td>\n",
       "      <td>8397</td>\n",
       "    </tr>\n",
       "    <tr>\n",
       "      <th>weibo</th>\n",
       "      <td>15113</td>\n",
       "      <td>3901</td>\n",
       "      <td>11212</td>\n",
       "    </tr>\n",
       "    <tr>\n",
       "      <th>weichat</th>\n",
       "      <td>18244</td>\n",
       "      <td>4899</td>\n",
       "      <td>13345</td>\n",
       "    </tr>\n",
       "  </tbody>\n",
       "</table>\n",
       "</div>"
      ],
      "text/plain": [
       "           reg  stay   lost\n",
       "type                       \n",
       "webad    11570  3173   8397\n",
       "weibo    15113  3901  11212\n",
       "weichat  18244  4899  13345"
      ]
     },
     "execution_count": 84,
     "metadata": {},
     "output_type": "execute_result"
    }
   ],
   "source": [
    "observed = data.groupby('type').sum()\n",
    "observed.head()"
   ]
  },
  {
   "cell_type": "code",
   "execution_count": 86,
   "id": "26b2afcf-64e9-4185-a96d-533dc029325c",
   "metadata": {},
   "outputs": [
    {
     "data": {
      "text/plain": [
       "(9.359095286322784,\n",
       " 0.0092832122619623,\n",
       " 2,\n",
       " array([[ 3083.39328244,  8486.60671756],\n",
       "        [ 4027.59919425, 11085.40080575],\n",
       "        [ 4862.00752332, 13381.99247668]]))"
      ]
     },
     "execution_count": 86,
     "metadata": {},
     "output_type": "execute_result"
    }
   ],
   "source": [
    "stats.chi2_contingency(observed=observed[['stay', 'lost']])"
   ]
  },
  {
   "cell_type": "code",
   "execution_count": 87,
   "id": "e600cc49-35e0-4e6e-86b1-18ab84ba33b8",
   "metadata": {},
   "outputs": [
    {
     "data": {
      "text/plain": [
       "type\n",
       "webad      0.274244\n",
       "weibo      0.258122\n",
       "weichat    0.268527\n",
       "dtype: float64"
      ]
     },
     "execution_count": 87,
     "metadata": {},
     "output_type": "execute_result"
    }
   ],
   "source": [
    "observed['stay']/observed['reg']"
   ]
  },
  {
   "cell_type": "code",
   "execution_count": null,
   "id": "6470a673-c9ed-4e66-b1db-018710d440a1",
   "metadata": {},
   "outputs": [],
   "source": []
  }
 ],
 "metadata": {
  "kernelspec": {
   "display_name": "Python 3 (ipykernel)",
   "language": "python",
   "name": "python3"
  },
  "language_info": {
   "codemirror_mode": {
    "name": "ipython",
    "version": 3
   },
   "file_extension": ".py",
   "mimetype": "text/x-python",
   "name": "python",
   "nbconvert_exporter": "python",
   "pygments_lexer": "ipython3",
   "version": "3.9.7"
  }
 },
 "nbformat": 4,
 "nbformat_minor": 5
}
