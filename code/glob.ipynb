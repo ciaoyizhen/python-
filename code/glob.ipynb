{
 "cells": [
  {
   "cell_type": "code",
   "execution_count": 13,
   "id": "c86e863a-a44b-4e3c-b8ec-c016354477e7",
   "metadata": {},
   "outputs": [],
   "source": [
    "import glob\n",
    "import numpy as np\n",
    "import pandas as pd"
   ]
  },
  {
   "cell_type": "code",
   "execution_count": null,
   "id": "d12a75c4-581d-42a4-b289-c237009d17f2",
   "metadata": {},
   "outputs": [],
   "source": [
    "# 测试正则\n"
   ]
  },
  {
   "cell_type": "code",
   "execution_count": 2,
   "id": "6cc73902-a1da-4174-91bb-8fe94b07557c",
   "metadata": {},
   "outputs": [
    {
     "data": {
      "text/plain": [
       "['..\\\\data\\\\2014-baby-names-illinois.csv',\n",
       " '..\\\\data\\\\2015-baby-names-illinois.csv']"
      ]
     },
     "execution_count": 2,
     "metadata": {},
     "output_type": "execute_result"
    }
   ],
   "source": [
    "allFiles = glob.glob(r'..\\data\\201*-baby-names-illinois.csv')\n",
    "allFiles"
   ]
  },
  {
   "cell_type": "code",
   "execution_count": 17,
   "id": "8f5df2d1-5530-4cec-96ce-7b8a5edb269e",
   "metadata": {},
   "outputs": [
    {
     "data": {
      "text/plain": [
       "[     rank       name  frequency   sex  year\n",
       " 0       1       Noah        837  Male  2014\n",
       " 1       2  Alexander        747  Male  2014\n",
       " 2       3    William        687  Male  2014\n",
       " 3       4    Michael        680  Male  2014\n",
       " 4       5       Liam        670  Male  2014\n",
       " ..    ...        ...        ...   ...   ...\n",
       " 96     97        Max        170  Male  2014\n",
       " 97     98      Brody        168  Male  2014\n",
       " 98     99     Jaxson        168  Male  2014\n",
       " 99    100     George        166  Male  2014\n",
       " 100   101   Theodore        166  Male  2014\n",
       " \n",
       " [101 rows x 5 columns],\n",
       "     rank       name  frequency   sex  year\n",
       " 0      1       Noah        863  Male  2015\n",
       " 1      2       Liam        709  Male  2015\n",
       " 2      3  Alexander        703  Male  2015\n",
       " 3      4      Jacob        650  Male  2015\n",
       " 4      5    William        618  Male  2015\n",
       " ..   ...        ...        ...   ...   ...\n",
       " 95    96   Giovanni        168  Male  2015\n",
       " 96    97     Hudson        167  Male  2015\n",
       " 97    98     Camden        165  Male  2015\n",
       " 98    99        Max        164  Male  2015\n",
       " 99   100    Maxwell        155  Male  2015\n",
       " \n",
       " [100 rows x 5 columns]]"
      ]
     },
     "execution_count": 17,
     "metadata": {},
     "output_type": "execute_result"
    }
   ],
   "source": [
    "import re\n",
    "pattern = re.compile('(\\d+)-')\n",
    "df_list = []\n",
    "for file in allFiles:\n",
    "    df = pd.read_csv(file, index_col=None, header = 0)\n",
    "    # df中没有year信息,因此要添加year信息\n",
    "    # 这里通过extract的方法从文件名中提取\n",
    "    result = pattern.findall(file)\n",
    "    df['year'] = result[0]\n",
    "    df_list.append(df)\n",
    "df_list"
   ]
  },
  {
   "cell_type": "code",
   "execution_count": 18,
   "id": "f2270954-3eae-47e0-a90a-aa2ac890459b",
   "metadata": {},
   "outputs": [
    {
     "data": {
      "text/html": [
       "<div>\n",
       "<style scoped>\n",
       "    .dataframe tbody tr th:only-of-type {\n",
       "        vertical-align: middle;\n",
       "    }\n",
       "\n",
       "    .dataframe tbody tr th {\n",
       "        vertical-align: top;\n",
       "    }\n",
       "\n",
       "    .dataframe thead th {\n",
       "        text-align: right;\n",
       "    }\n",
       "</style>\n",
       "<table border=\"1\" class=\"dataframe\">\n",
       "  <thead>\n",
       "    <tr style=\"text-align: right;\">\n",
       "      <th></th>\n",
       "      <th>rank</th>\n",
       "      <th>name</th>\n",
       "      <th>frequency</th>\n",
       "      <th>sex</th>\n",
       "      <th>year</th>\n",
       "    </tr>\n",
       "  </thead>\n",
       "  <tbody>\n",
       "    <tr>\n",
       "      <th>0</th>\n",
       "      <td>1</td>\n",
       "      <td>Noah</td>\n",
       "      <td>837</td>\n",
       "      <td>Male</td>\n",
       "      <td>2014</td>\n",
       "    </tr>\n",
       "    <tr>\n",
       "      <th>1</th>\n",
       "      <td>2</td>\n",
       "      <td>Alexander</td>\n",
       "      <td>747</td>\n",
       "      <td>Male</td>\n",
       "      <td>2014</td>\n",
       "    </tr>\n",
       "    <tr>\n",
       "      <th>2</th>\n",
       "      <td>3</td>\n",
       "      <td>William</td>\n",
       "      <td>687</td>\n",
       "      <td>Male</td>\n",
       "      <td>2014</td>\n",
       "    </tr>\n",
       "    <tr>\n",
       "      <th>3</th>\n",
       "      <td>4</td>\n",
       "      <td>Michael</td>\n",
       "      <td>680</td>\n",
       "      <td>Male</td>\n",
       "      <td>2014</td>\n",
       "    </tr>\n",
       "    <tr>\n",
       "      <th>4</th>\n",
       "      <td>5</td>\n",
       "      <td>Liam</td>\n",
       "      <td>670</td>\n",
       "      <td>Male</td>\n",
       "      <td>2014</td>\n",
       "    </tr>\n",
       "    <tr>\n",
       "      <th>...</th>\n",
       "      <td>...</td>\n",
       "      <td>...</td>\n",
       "      <td>...</td>\n",
       "      <td>...</td>\n",
       "      <td>...</td>\n",
       "    </tr>\n",
       "    <tr>\n",
       "      <th>95</th>\n",
       "      <td>96</td>\n",
       "      <td>Giovanni</td>\n",
       "      <td>168</td>\n",
       "      <td>Male</td>\n",
       "      <td>2015</td>\n",
       "    </tr>\n",
       "    <tr>\n",
       "      <th>96</th>\n",
       "      <td>97</td>\n",
       "      <td>Hudson</td>\n",
       "      <td>167</td>\n",
       "      <td>Male</td>\n",
       "      <td>2015</td>\n",
       "    </tr>\n",
       "    <tr>\n",
       "      <th>97</th>\n",
       "      <td>98</td>\n",
       "      <td>Camden</td>\n",
       "      <td>165</td>\n",
       "      <td>Male</td>\n",
       "      <td>2015</td>\n",
       "    </tr>\n",
       "    <tr>\n",
       "      <th>98</th>\n",
       "      <td>99</td>\n",
       "      <td>Max</td>\n",
       "      <td>164</td>\n",
       "      <td>Male</td>\n",
       "      <td>2015</td>\n",
       "    </tr>\n",
       "    <tr>\n",
       "      <th>99</th>\n",
       "      <td>100</td>\n",
       "      <td>Maxwell</td>\n",
       "      <td>155</td>\n",
       "      <td>Male</td>\n",
       "      <td>2015</td>\n",
       "    </tr>\n",
       "  </tbody>\n",
       "</table>\n",
       "<p>201 rows × 5 columns</p>\n",
       "</div>"
      ],
      "text/plain": [
       "    rank       name  frequency   sex  year\n",
       "0      1       Noah        837  Male  2014\n",
       "1      2  Alexander        747  Male  2014\n",
       "2      3    William        687  Male  2014\n",
       "3      4    Michael        680  Male  2014\n",
       "4      5       Liam        670  Male  2014\n",
       "..   ...        ...        ...   ...   ...\n",
       "95    96   Giovanni        168  Male  2015\n",
       "96    97     Hudson        167  Male  2015\n",
       "97    98     Camden        165  Male  2015\n",
       "98    99        Max        164  Male  2015\n",
       "99   100    Maxwell        155  Male  2015\n",
       "\n",
       "[201 rows x 5 columns]"
      ]
     },
     "execution_count": 18,
     "metadata": {},
     "output_type": "execute_result"
    }
   ],
   "source": [
    "new_df = pd.concat(df_list, axis=0)\n",
    "new_df"
   ]
  },
  {
   "cell_type": "code",
   "execution_count": 7,
   "id": "8b20e9c4-ce61-46a1-afea-a1190a71151a",
   "metadata": {},
   "outputs": [
    {
     "ename": "AttributeError",
     "evalue": "type object 'str' has no attribute 'extract'",
     "output_type": "error",
     "traceback": [
      "\u001b[1;31m---------------------------------------------------------------------------\u001b[0m",
      "\u001b[1;31mAttributeError\u001b[0m                            Traceback (most recent call last)",
      "\u001b[1;32mC:\\Users\\一个路~1\\AppData\\Local\\Temp/ipykernel_10644/3887002923.py\u001b[0m in \u001b[0;36m<module>\u001b[1;34m\u001b[0m\n\u001b[1;32m----> 1\u001b[1;33m \u001b[0mstr\u001b[0m\u001b[1;33m.\u001b[0m\u001b[0mextract\u001b[0m\u001b[1;33m(\u001b[0m\u001b[1;33m)\u001b[0m\u001b[1;33m\u001b[0m\u001b[1;33m\u001b[0m\u001b[0m\n\u001b[0m",
      "\u001b[1;31mAttributeError\u001b[0m: type object 'str' has no attribute 'extract'"
     ]
    }
   ],
   "source": [
    "str.extract()"
   ]
  },
  {
   "cell_type": "code",
   "execution_count": null,
   "id": "b5ce0102-5fa2-4e5d-9773-f84720e9a63a",
   "metadata": {},
   "outputs": [],
   "source": []
  }
 ],
 "metadata": {
  "kernelspec": {
   "display_name": "Python 3 (ipykernel)",
   "language": "python",
   "name": "python3"
  },
  "language_info": {
   "codemirror_mode": {
    "name": "ipython",
    "version": 3
   },
   "file_extension": ".py",
   "mimetype": "text/x-python",
   "name": "python",
   "nbconvert_exporter": "python",
   "pygments_lexer": "ipython3",
   "version": "3.9.7"
  }
 },
 "nbformat": 4,
 "nbformat_minor": 5
}
